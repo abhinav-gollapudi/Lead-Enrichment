{
 "cells": [
  {
   "cell_type": "code",
   "execution_count": 58,
   "metadata": {},
   "outputs": [],
   "source": [
    "from dotenv import load_dotenv\n",
    "import os\n",
    "from openai import OpenAI\n",
    "import base64\n",
    "import pandas as pd\n",
    "import re\n",
    "from openpyxl.utils import get_column_letter\n",
    "import json"
   ]
  },
  {
   "cell_type": "code",
   "execution_count": 59,
   "metadata": {},
   "outputs": [],
   "source": [
    "load_dotenv()\n",
    "OPENAI_API_KEY = os.getenv(\"OPENAI_API_KEY\")\n",
    "openai = OpenAI(api_key=OPENAI_API_KEY)"
   ]
  },
  {
   "cell_type": "code",
   "execution_count": 60,
   "metadata": {},
   "outputs": [],
   "source": [
    "def encode_image(image_path):\n",
    "    with open(image_path, \"rb\") as image_file:\n",
    "        return base64.b64encode(image_file.read()).decode('utf-8')"
   ]
  },
  {
   "cell_type": "code",
   "execution_count": 80,
   "metadata": {},
   "outputs": [],
   "source": [
    "def get_response(image_path):\n",
    "  base64_image = encode_image(image_path)\n",
    "  response = openai.chat.completions.create(\n",
    "      model=\"gpt-4o\",\n",
    "      temperature=0,\n",
    "    messages=[\n",
    "      {\n",
    "        \"role\": \"user\", \n",
    "        \"content\": [\n",
    "        {\"type\": \"text\", \"text\": \"Analyze the image to accurately extract each individual's full name, job title, and associated company, and output as a JSON array of objects, with object containing 'Name,' 'Job Title,' and 'Company,' fields. Ignore all irrelevant text, icons, or visual elements.\"},\n",
    "          {\n",
    "            \"type\": \"image_url\", \n",
    "            \"image_url\": {\n",
    "              \"url\": f\"data:image/png;base64,{base64_image}\"\n",
    "            }\n",
    "          }\n",
    "        ]\n",
    "      }\n",
    "    ]\n",
    "  )\n",
    "  return response.choices[0].message.content\n"
   ]
  },
  {
   "cell_type": "code",
   "execution_count": 82,
   "metadata": {},
   "outputs": [
    {
     "name": "stdout",
     "output_type": "stream",
     "text": [
      "```json\n",
      "[\n",
      "    {\n",
      "        \"Name\": \"Avi Richards\",\n",
      "        \"Job Title\": \"CGO\",\n",
      "        \"Company\": \"Ship Pros\"\n",
      "    },\n",
      "    {\n",
      "        \"Name\": \"Barbara Reinish\",\n",
      "        \"Job Title\": \"Brand Ambassador\",\n",
      "        \"Company\": \"StarBars\"\n",
      "    },\n",
      "    {\n",
      "        \"Name\": \"Brenee Staples\",\n",
      "        \"Job Title\": \"Senior Regional Sales Director\",\n",
      "        \"Company\": \"NetSuite\"\n",
      "    },\n",
      "    {\n",
      "        \"Name\": \"Brianna Neufeld\",\n",
      "        \"Job Title\": \"Co-founder/CEO\",\n",
      "        \"Company\": \"Mate Wellness Inc.\"\n",
      "    },\n",
      "    {\n",
      "        \"Name\": \"Brianna Persall\",\n",
      "        \"Job Title\": \"Brand Partnerships\",\n",
      "        \"Company\": \"Creator.co\"\n",
      "    },\n",
      "    {\n",
      "        \"Name\": \"Brittany & Jeff Didra\",\n",
      "        \"Job Title\": \"Founder\",\n",
      "        \"Company\": \"¡Wepa! Coffee Co.\"\n",
      "    },\n",
      "    {\n",
      "        \"Name\": \"Can Ozdoruk\",\n",
      "        \"Job Title\": \"SVP, Head of Marketing\",\n",
      "        \"Company\": \"Firework\"\n",
      "    }\n",
      "]\n",
      "```\n"
     ]
    }
   ],
   "source": [
    "response=get_response(\"images/IMG_9396 1.PNG\")\n",
    "print(response)"
   ]
  },
  {
   "cell_type": "code",
   "execution_count": 62,
   "metadata": {},
   "outputs": [],
   "source": [
    "def parse_table(data_text):\n",
    "    \"\"\"\n",
    "    Parse a table from plain text into a list of dictionaries.\n",
    "    \n",
    "    Args:\n",
    "        data_text (str): The text containing the table to parse\n",
    "    \n",
    "    Returns:\n",
    "        list: A list of dictionaries containing parsed data\n",
    "    \"\"\"\n",
    "    # Extract lines from the table\n",
    "    cleaned_text = re.sub(r'^```json\\s*|\\s*```$', '', data_text.strip())\n",
    "\n",
    "    # Parse the cleaned JSON text\n",
    "    parsed_list = json.loads(cleaned_text)\n",
    "\n",
    "    # Print the parsed list\n",
    "    return(parsed_list)\n"
   ]
  },
  {
   "cell_type": "code",
   "execution_count": 63,
   "metadata": {},
   "outputs": [],
   "source": [
    "def append_to_excel(parsed_data, file_name='companies.xlsx', sheet_name='Sheet1'):\n",
    "    \"\"\"\n",
    "    Append data to an existing Excel file or create a new one, and adjust the column widths.\n",
    "    \n",
    "    Args:\n",
    "        parsed_data (list): List of dictionaries containing the data to append\n",
    "        file_name (str): Name of the Excel file\n",
    "        sheet_name (str): Name of the sheet to append to\n",
    "    \"\"\"\n",
    "    try:\n",
    "        # Check if the file exists\n",
    "        try:\n",
    "            existing_df = pd.read_excel(file_name, sheet_name=sheet_name)\n",
    "            file_exists = True\n",
    "        except FileNotFoundError:\n",
    "            existing_df = pd.DataFrame()\n",
    "            file_exists = False\n",
    "        \n",
    "        # Convert parsed data to DataFrame\n",
    "        new_df = pd.DataFrame(parsed_data)\n",
    "        # Combine existing and new data if the file exists, otherwise use the new data alone\n",
    "        combined_df = pd.concat([existing_df, new_df], ignore_index=True)\n",
    "        \n",
    "        # Write combined data back to Excel\n",
    "        with pd.ExcelWriter(file_name, engine='openpyxl', mode='a' if file_exists else 'w') as writer:\n",
    "            # If the file exists, remove the old sheet if necessary\n",
    "            workbook = writer.book\n",
    "            if file_exists and sheet_name in workbook.sheetnames:\n",
    "                idx = workbook.sheetnames.index(sheet_name)\n",
    "                workbook.remove(workbook.worksheets[idx])\n",
    "                \n",
    "            # Write combined data to a new sheet\n",
    "            combined_df.to_excel(writer, sheet_name=sheet_name, index=False)\n",
    "\n",
    "            # Adjust column widths\n",
    "            ws = workbook[sheet_name]\n",
    "            for col in ws.columns:\n",
    "                max_length = 0\n",
    "                column = col[0].column_letter  # Get the column name\n",
    "                for cell in col:\n",
    "                    try:\n",
    "                        if len(str(cell.value)) > max_length:\n",
    "                            max_length = len(cell.value)\n",
    "                    except:\n",
    "                        pass\n",
    "                adjusted_width = (max_length + 2)  # Add extra space for padding\n",
    "                ws.column_dimensions[column].width = adjusted_width\n",
    "\n",
    "        print(f\"Data has been appended to {file_name} and column widths adjusted.\")\n",
    "    except Exception as e:\n",
    "        print(f\"An error occurred: {e}\")\n",
    "\n",
    "# Usage example\n",
    "# Assuming 'output' is your input text containing the table\n",
    "# parse_table(output)\n",
    "# append_to_excel(parsed_data)"
   ]
  },
  {
   "cell_type": "code",
   "execution_count": 64,
   "metadata": {},
   "outputs": [
    {
     "name": "stdout",
     "output_type": "stream",
     "text": [
      "Data has been appended to companies.xlsx and column widths adjusted.\n"
     ]
    }
   ],
   "source": [
    "parsed_data=[]\n",
    "files=[\"images/IMG_9395 1.PNG\", \"images/IMG_9396 1.PNG\"]\n",
    "for file in files:\n",
    "    output=get_response(file)\n",
    "    parsed_data.extend(parse_table(output))\n",
    "append_to_excel(parsed_data)"
   ]
  },
  {
   "cell_type": "code",
   "execution_count": 49,
   "metadata": {},
   "outputs": [
    {
     "name": "stdout",
     "output_type": "stream",
     "text": [
      "```json\n",
      "[\n",
      "    {\n",
      "        \"Name\": \"Mark Smith\",\n",
      "        \"Job Title\": \"Co-Owner\",\n",
      "        \"Company\": \"inVEND LLC\"\n",
      "    },\n",
      "    {\n",
      "        \"Name\": \"Mat Drela\",\n",
      "        \"Job Title\": \"CEO\",\n",
      "        \"Company\": \"Retail Media Intelligence\"\n",
      "    },\n",
      "    {\n",
      "        \"Name\": \"Meredith Martin\",\n",
      "        \"Job Title\": \"Owner\",\n",
      "        \"Company\": \"StarBars\"\n",
      "    },\n",
      "    {\n",
      "        \"Name\": \"Natasha Bischoff\",\n",
      "        \"Job Title\": \"Director of Sales & Marketing\",\n",
      "        \"Company\": \"Marketing Support Services\"\n",
      "    },\n",
      "    {\n",
      "        \"Name\": \"Nikki Loomba\",\n",
      "        \"Job Title\": \"CEO\",\n",
      "        \"Company\": \"Loomba Consulting Group, Inc.\"\n",
      "    },\n",
      "    {\n",
      "        \"Name\": \"Patti Regan\",\n",
      "        \"Job Title\": \"CEO\",\n",
      "        \"Company\": \"TRG Fulfillment\"\n",
      "    },\n",
      "    {\n",
      "        \"Name\": \"Peter Misek\",\n",
      "        \"Job Title\": \"CSO\",\n",
      "        \"Company\": \"Retail Media Intelligence\"\n",
      "    }\n",
      "]\n",
      "```\n"
     ]
    }
   ],
   "source": [
    "# output=get_response(\"IMG_9402 1.PNG\")\n",
    "# print(output)"
   ]
  },
  {
   "cell_type": "code",
   "execution_count": 195,
   "metadata": {},
   "outputs": [
    {
     "name": "stdout",
     "output_type": "stream",
     "text": [
      "[{'Name': 'Adrienne Lufkin', 'Job Title': 'Founder', 'Company': 'Struesli'}, {'Name': 'Alberto Mayoral', 'Job Title': 'Sales & Education Executive', 'Company': 'Knesko Skin'}, {'Name': 'Alex Gabbert', 'Job Title': 'Brand Communications Director', 'Company': 'Publicity for Good'}, {'Name': 'Alineh Avanessian', 'Job Title': 'Influencer', 'Company': 'Alineh Inc.'}, {'Name': 'Allison Tryk', 'Job Title': 'Director of Sales', 'Company': 'Bloomkare.com'}, {'Name': 'Andrew Nicol', 'Job Title': 'Founder & CEO', 'Company': 'Element Brooklyn'}, {'Name': 'Avi Richards', 'Job Title': 'CGO', 'Company': 'Ship Pros'}, {'Name': 'Barbara Reinish', 'Job Title': 'Brand Ambassador', 'Company': 'StarBars'}, {'Name': 'Brenee Staples', 'Job Title': 'Senior Regional Sales Director', 'Company': 'NetSuite'}, {'Name': 'Brianna Neufeld', 'Job Title': 'Co-founder/CEO', 'Company': 'Mate Wellness Inc.'}, {'Name': 'Brianna Persall', 'Job Title': 'Brand Partnerships', 'Company': 'Creator.co'}, {'Name': 'Brittany & Jeff Didra', 'Job Title': 'Founder', 'Company': '¡Wepa! Coffee Co.'}, {'Name': 'Can Ozdoruk', 'Job Title': 'SVP, Head of Marketing', 'Company': 'Firework'}]\n"
     ]
    }
   ],
   "source": [
    "print(parsed_data)"
   ]
  }
 ],
 "metadata": {
  "kernelspec": {
   "display_name": "venv",
   "language": "python",
   "name": "python3"
  },
  "language_info": {
   "codemirror_mode": {
    "name": "ipython",
    "version": 3
   },
   "file_extension": ".py",
   "mimetype": "text/x-python",
   "name": "python",
   "nbconvert_exporter": "python",
   "pygments_lexer": "ipython3",
   "version": "3.13.0"
  }
 },
 "nbformat": 4,
 "nbformat_minor": 2
}
